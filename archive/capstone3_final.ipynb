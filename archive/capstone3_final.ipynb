{
  "nbformat": 4,
  "nbformat_minor": 0,
  "metadata": {
    "colab": {
      "provenance": []
    },
    "kernelspec": {
      "name": "python3",
      "display_name": "Python 3"
    },
    "language_info": {
      "name": "python"
    }
  },
  "cells": [
    {
      "cell_type": "code",
      "execution_count": 1,
      "metadata": {
        "colab": {
          "base_uri": "https://localhost:8080/"
        },
        "id": "eueSRM5ypFxX",
        "outputId": "33084d11-a9a0-4fed-c125-fbea2f37b709"
      },
      "outputs": [
        {
          "output_type": "stream",
          "name": "stdout",
          "text": [
            "Collecting flatten_json\n",
            "  Downloading flatten_json-0.1.14-py3-none-any.whl.metadata (4.2 kB)\n",
            "Requirement already satisfied: six in /usr/local/lib/python3.10/dist-packages (from flatten_json) (1.16.0)\n",
            "Downloading flatten_json-0.1.14-py3-none-any.whl (8.0 kB)\n",
            "Installing collected packages: flatten_json\n",
            "Successfully installed flatten_json-0.1.14\n"
          ]
        }
      ],
      "source": [
        "!pip install flatten_json\n",
        "import joblib\n",
        "\n",
        "import pandas as pd\n",
        "import json as json\n",
        "from flatten_json import flatten\n",
        "\n",
        "import numpy as np\n",
        "import seaborn as sns\n",
        "import matplotlib.pyplot as plt\n",
        "\n",
        "from sklearn.model_selection import train_test_split\n",
        "from sklearn.linear_model import LinearRegression\n",
        "\n",
        "from sklearn.metrics import mean_squared_error\n",
        "from sklearn.metrics import r2_score\n",
        "from sklearn.preprocessing import MinMaxScaler\n",
        "from sklearn.preprocessing import StandardScaler\n",
        "from sklearn.model_selection import learning_curve\n",
        "from sklearn.compose import ColumnTransformer\n",
        "from sklearn.preprocessing import OneHotEncoder\n",
        "from sklearn.linear_model import Lasso, Ridge\n",
        "from sklearn.pipeline import Pipeline\n",
        "import pickle\n"
      ]
    },
    {
      "cell_type": "code",
      "source": [
        "def process_city(city, cars_df):\n",
        "  city_df = pd.read_excel(f'./capstone-3-datasets/{city}_cars.xlsx')\n",
        "\n",
        "  for index,row in city_df.iterrows():\n",
        "    car_dict = flatten(json.loads(row.new_car_detail.replace(\"'\",'\"').replace('None','null')))\n",
        "    car_dict['city']=city\n",
        "\n",
        "    for element in json.loads(row.new_car_overview.replace(\"'\",'\"').replace('None','null'))['top']:\n",
        "      car_dict['o_' + element['key']] = element['value']\n",
        "\n",
        "    for item in json.loads(row.new_car_feature.replace(\"'\",'\"').replace('None','null'))['top']:\n",
        "      car_dict['f_' + item['value']] = 1\n",
        "\n",
        "    for item in json.loads(row.new_car_specs.replace(\"'\",'\"').replace('None','null'))['top']:\n",
        "      car_dict['s_' + item['key']] = item['value']\n",
        "\n",
        "    cars_df = pd.concat([cars_df, pd.DataFrame([car_dict])])\n",
        "\n",
        "  return cars_df\n"
      ],
      "metadata": {
        "id": "zWk74G98pdba"
      },
      "execution_count": 2,
      "outputs": []
    },
    {
      "cell_type": "code",
      "source": [
        "cities = ['chennai','bangalore','delhi','hyderabad','jaipur','kolkata']\n",
        "cars_df = pd.DataFrame()\n",
        "for city in cities:\n",
        "  cars_df = process_city(city, cars_df)"
      ],
      "metadata": {
        "id": "p81_oVScpixb"
      },
      "execution_count": 3,
      "outputs": []
    },
    {
      "cell_type": "code",
      "source": [
        "cars_df.info(verbose=True, show_counts=True)"
      ],
      "metadata": {
        "colab": {
          "base_uri": "https://localhost:8080/"
        },
        "id": "200XPVvQqPYT",
        "outputId": "52ff57be-adc1-4589-f8e5-f54d39f0318d"
      },
      "execution_count": 4,
      "outputs": [
        {
          "output_type": "stream",
          "name": "stdout",
          "text": [
            "<class 'pandas.core.frame.DataFrame'>\n",
            "Index: 8369 entries, 0 to 0\n",
            "Data columns (total 111 columns):\n",
            " #    Column                                           Non-Null Count  Dtype  \n",
            "---   ------                                           --------------  -----  \n",
            " 0    it                                               8369 non-null   int64  \n",
            " 1    ft                                               8369 non-null   object \n",
            " 2    bt                                               8369 non-null   object \n",
            " 3    km                                               8369 non-null   object \n",
            " 4    transmission                                     8369 non-null   object \n",
            " 5    ownerNo                                          8369 non-null   int64  \n",
            " 6    owner                                            8369 non-null   object \n",
            " 7    oem                                              8369 non-null   object \n",
            " 8    model                                            8369 non-null   object \n",
            " 9    modelYear                                        8369 non-null   int64  \n",
            " 10   centralVariantId                                 8369 non-null   int64  \n",
            " 11   variantName                                      8369 non-null   object \n",
            " 12   price                                            8369 non-null   object \n",
            " 13   priceActual                                      8369 non-null   object \n",
            " 14   priceSaving                                      8369 non-null   object \n",
            " 15   priceFixedText                                   0 non-null      object \n",
            " 16   trendingText_imgUrl                              8369 non-null   object \n",
            " 17   trendingText_heading                             8369 non-null   object \n",
            " 18   trendingText_desc                                8369 non-null   object \n",
            " 19   city                                             8369 non-null   object \n",
            " 20   o_Registration Year                              8317 non-null   object \n",
            " 21   o_Insurance Validity                             8365 non-null   object \n",
            " 22   o_Fuel Type                                      8369 non-null   object \n",
            " 23   o_Seats                                          8363 non-null   object \n",
            " 24   o_Kms Driven                                     8367 non-null   object \n",
            " 25   o_RTO                                            7481 non-null   object \n",
            " 26   o_Ownership                                      8337 non-null   object \n",
            " 27   o_Engine Displacement                            8365 non-null   object \n",
            " 28   o_Transmission                                   8369 non-null   object \n",
            " 29   o_Year of Manufacture                            8349 non-null   float64\n",
            " 30   f_Power Steering                                 8189 non-null   float64\n",
            " 31   f_Power Windows Front                            7942 non-null   float64\n",
            " 32   f_Air Conditioner                                8223 non-null   float64\n",
            " 33   f_Heater                                         8182 non-null   float64\n",
            " 34   f_Adjustable Head Lights                         7801 non-null   float64\n",
            " 35   f_Fog Lights Front                               5224 non-null   float64\n",
            " 36   f_Anti Lock Braking System                       6844 non-null   float64\n",
            " 37   f_Brake Assist                                   2484 non-null   float64\n",
            " 38   f_Radio                                          3204 non-null   float64\n",
            " 39   s_Engine                                         8365 non-null   object \n",
            " 40   s_Max Power                                      8309 non-null   object \n",
            " 41   s_Torque                                         8309 non-null   object \n",
            " 42   s_Wheel Size                                     5386 non-null   object \n",
            " 43   s_Seats                                          8364 non-null   object \n",
            " 44   f_Low Fuel Warning Light                         135 non-null    float64\n",
            " 45   f_Accessory Power Outlet                         26 non-null     float64\n",
            " 46   f_Digital Odometer                               37 non-null     float64\n",
            " 47   f_Manually Adjustable Exterior Rear View Mirror  1302 non-null   float64\n",
            " 48   f_Child Safety Locks                             610 non-null    float64\n",
            " 49   s_Mileage                                        8082 non-null   object \n",
            " 50   f_Centeral Locking                               5380 non-null   float64\n",
            " 51   f_Power Door Locks                               684 non-null    float64\n",
            " 52   f_Cd Player                                      3810 non-null   float64\n",
            " 53   f_Power Adjustable Exterior Rear View Mirror     1742 non-null   float64\n",
            " 54   f_Speakers Front                                 108 non-null    float64\n",
            " 55   f_Remote Trunk Opener                            163 non-null    float64\n",
            " 56   f_Day Night Rear View Mirror                     230 non-null    float64\n",
            " 57   f_Passenger Side Rear View Mirror                128 non-null    float64\n",
            " 58   f_Fog Lights Rear                                268 non-null    float64\n",
            " 59   f_Tachometer                                     22 non-null     float64\n",
            " 60   f_Power Antenna                                  61 non-null     float64\n",
            " 61   f_Cassette Player                                24 non-null     float64\n",
            " 62   f_Air Quality Control                            9 non-null      float64\n",
            " 63   f_Driver Air Bag                                 62 non-null     float64\n",
            " 64   f_Dvd Player                                     27 non-null     float64\n",
            " 65   f_Number Of Speaker                              20 non-null     float64\n",
            " 66   f_Tinted Glass                                   63 non-null     float64\n",
            " 67   f_Halogen Headlamps                              83 non-null     float64\n",
            " 68   f_Usb Auxiliary Input                            45 non-null     float64\n",
            " 69   f_Fabric Upholstery                              23 non-null     float64\n",
            " 70   f_Anti Theft Alarm                               27 non-null     float64\n",
            " 71   f_Power Windows Rear                             23 non-null     float64\n",
            " 72   f_Electronic Multi Tripmeter                     14 non-null     float64\n",
            " 73   f_Leather Seats                                  22 non-null     float64\n",
            " 74   f_Trunk Light                                    3 non-null      float64\n",
            " 75   f_Vanity Mirror                                  5 non-null      float64\n",
            " 76   f_Glove Compartment                              14 non-null     float64\n",
            " 77   f_Audio System Remote Control                    10 non-null     float64\n",
            " 78   f_Remote Fuel Lid Opener                         45 non-null     float64\n",
            " 79   f_Wheel Covers                                   22 non-null     float64\n",
            " 80   f_Rear Window Defogger                           1 non-null      float64\n",
            " 81   f_Rear Seat Headrest                             27 non-null     float64\n",
            " 82   f_Cd Changer                                     18 non-null     float64\n",
            " 83   f_Adjustable Seats                               1 non-null      float64\n",
            " 84   f_Tyre Pressure Monitor                          1 non-null      float64\n",
            " 85   f_Touch Screen                                   2 non-null      float64\n",
            " 86   f_Electric Folding Rear View Mirror              34 non-null     float64\n",
            " 87   f_Leather Steering Wheel                         12 non-null     float64\n",
            " 88   f_Rear Seat Belts                                5 non-null      float64\n",
            " 89   f_Bluetooth                                      8 non-null      float64\n",
            " 90   f_Rear Window Wiper                              9 non-null      float64\n",
            " 91   f_Cup Holders Front                              15 non-null     float64\n",
            " 92   f_Navigation System                              2 non-null      float64\n",
            " 93   f_Integrated2Din Audio                           5 non-null      float64\n",
            " 94   f_Speakers Rear                                  2 non-null      float64\n",
            " 95   f_Adjustable Steering                            19 non-null     float64\n",
            " 96   f_Integrated Antenna                             4 non-null      float64\n",
            " 97   f_Multifunction Steering Wheel                   1 non-null      float64\n",
            " 98   f_Sun Roof                                       1 non-null      float64\n",
            " 99   f_Moon Roof                                      1 non-null      float64\n",
            " 100  f_Side Air Bag Front                             1 non-null      float64\n",
            " 101  f_Cruise Control                                 1 non-null      float64\n",
            " 102  f_Drive Modes                                    2 non-null      float64\n",
            " 103  f_Digital Clock                                  1 non-null      float64\n",
            " 104  f_Passenger Air Bag                              2 non-null      float64\n",
            " 105  f_Rear Folding Table                             1 non-null      float64\n",
            " 106  f_Driving Experience Control Eco                 1 non-null      float64\n",
            " 107  f_Engine Immobilizer                             1 non-null      float64\n",
            " 108  f_Rear Spoiler                                   1 non-null      float64\n",
            " 109  f_Alloy Wheels                                   2 non-null      float64\n",
            " 110  f_LEDDRLs                                        2 non-null      float64\n",
            "dtypes: float64(76), int64(4), object(31)\n",
            "memory usage: 7.2+ MB\n"
          ]
        }
      ]
    },
    {
      "cell_type": "code",
      "source": [
        "cars_df = cars_df[['ft','o_Kms Driven','transmission','s_Mileage','ownerNo','modelYear','price','city','oem','model']]\n",
        "cars_df.info()"
      ],
      "metadata": {
        "colab": {
          "base_uri": "https://localhost:8080/"
        },
        "id": "ZwozozNYqX3z",
        "outputId": "82d8e14d-265e-4238-e4bf-b3713e34c11c"
      },
      "execution_count": 5,
      "outputs": [
        {
          "output_type": "stream",
          "name": "stdout",
          "text": [
            "<class 'pandas.core.frame.DataFrame'>\n",
            "Index: 8369 entries, 0 to 0\n",
            "Data columns (total 10 columns):\n",
            " #   Column        Non-Null Count  Dtype \n",
            "---  ------        --------------  ----- \n",
            " 0   ft            8369 non-null   object\n",
            " 1   o_Kms Driven  8367 non-null   object\n",
            " 2   transmission  8369 non-null   object\n",
            " 3   s_Mileage     8082 non-null   object\n",
            " 4   ownerNo       8369 non-null   int64 \n",
            " 5   modelYear     8369 non-null   int64 \n",
            " 6   price         8369 non-null   object\n",
            " 7   city          8369 non-null   object\n",
            " 8   oem           8369 non-null   object\n",
            " 9   model         8369 non-null   object\n",
            "dtypes: int64(2), object(8)\n",
            "memory usage: 719.2+ KB\n"
          ]
        }
      ]
    },
    {
      "cell_type": "code",
      "source": [
        "# Check for duplicates\n",
        "cars_df.duplicated().sum()"
      ],
      "metadata": {
        "colab": {
          "base_uri": "https://localhost:8080/"
        },
        "id": "Bt1sCRJTqbbb",
        "outputId": "157847a0-d709-4e29-fc51-82e499a35ae7"
      },
      "execution_count": 6,
      "outputs": [
        {
          "output_type": "execute_result",
          "data": {
            "text/plain": [
              "127"
            ]
          },
          "metadata": {},
          "execution_count": 6
        }
      ]
    },
    {
      "cell_type": "code",
      "source": [
        "# Remove duplicates\n",
        "cars_df = cars_df.drop_duplicates()\n",
        "cars_df.duplicated().sum()"
      ],
      "metadata": {
        "colab": {
          "base_uri": "https://localhost:8080/"
        },
        "id": "_YAa2kwSqd37",
        "outputId": "358392d9-e384-46fb-f458-45668d21273d"
      },
      "execution_count": 7,
      "outputs": [
        {
          "output_type": "execute_result",
          "data": {
            "text/plain": [
              "0"
            ]
          },
          "metadata": {},
          "execution_count": 7
        }
      ]
    },
    {
      "cell_type": "code",
      "source": [
        "cars_df.info()"
      ],
      "metadata": {
        "colab": {
          "base_uri": "https://localhost:8080/"
        },
        "id": "sR6nA0-kqyUb",
        "outputId": "3b61a49d-2505-4d15-c4c2-9d183de26f5a"
      },
      "execution_count": 8,
      "outputs": [
        {
          "output_type": "stream",
          "name": "stdout",
          "text": [
            "<class 'pandas.core.frame.DataFrame'>\n",
            "Index: 8242 entries, 0 to 0\n",
            "Data columns (total 10 columns):\n",
            " #   Column        Non-Null Count  Dtype \n",
            "---  ------        --------------  ----- \n",
            " 0   ft            8242 non-null   object\n",
            " 1   o_Kms Driven  8240 non-null   object\n",
            " 2   transmission  8242 non-null   object\n",
            " 3   s_Mileage     7961 non-null   object\n",
            " 4   ownerNo       8242 non-null   int64 \n",
            " 5   modelYear     8242 non-null   int64 \n",
            " 6   price         8242 non-null   object\n",
            " 7   city          8242 non-null   object\n",
            " 8   oem           8242 non-null   object\n",
            " 9   model         8242 non-null   object\n",
            "dtypes: int64(2), object(8)\n",
            "memory usage: 708.3+ KB\n"
          ]
        }
      ]
    },
    {
      "cell_type": "code",
      "source": [
        "cars_df.head(10)"
      ],
      "metadata": {
        "colab": {
          "base_uri": "https://localhost:8080/",
          "height": 363
        },
        "id": "rCDPj6Vrq2eD",
        "outputId": "e035390b-2f75-4a51-db7b-f605b5b550dc"
      },
      "execution_count": 9,
      "outputs": [
        {
          "output_type": "execute_result",
          "data": {
            "text/plain": [
              "       ft o_Kms Driven transmission   s_Mileage  ownerNo  modelYear  \\\n",
              "0  Petrol   20,000 Kms    Automatic         NaN        1       2022   \n",
              "0  Petrol   20,687 Kms       Manual  15.37 kmpl        1       2015   \n",
              "0  Petrol   30,000 Kms       Manual     20 kmpl        1       2021   \n",
              "0  Petrol   59,247 Kms       Manual  19.81 kmpl        1       2015   \n",
              "0  Petrol   50,000 Kms       Manual   18.7 kmpl        1       2015   \n",
              "0  Diesel   20,000 Kms    Automatic     13 kmpl        1       2016   \n",
              "0  Petrol   29,403 Kms    Automatic   23.1 kmpl        1       2016   \n",
              "0  Petrol   42,700 Kms       Manual     19 kmpl        1       2010   \n",
              "0  Diesel   23,001 Kms    Automatic  16.55 kmpl        1       2018   \n",
              "0  Petrol   25,925 Kms    Automatic   14.8 kmpl        2       2018   \n",
              "\n",
              "          price     city            oem                  model  \n",
              "0  ₹ 11.50 Lakh  chennai            Kia              Kia Sonet  \n",
              "0   ₹ 4.15 Lakh  chennai         Maruti            Maruti Eeco  \n",
              "0   ₹ 7.50 Lakh  chennai         Nissan         Nissan Magnite  \n",
              "0   ₹ 3.98 Lakh  chennai        Hyundai            Hyundai i10  \n",
              "0   ₹ 5.50 Lakh  chennai          Honda             Honda Jazz  \n",
              "0     ₹ 33 Lakh  chennai  Mercedes-Benz  Mercedes-Benz E-Class  \n",
              "0   ₹ 4.53 Lakh  chennai         Maruti         Maruti Celerio  \n",
              "0   ₹ 2.85 Lakh  chennai         Maruti          Maruti A-Star  \n",
              "0     ₹ 50 Lakh  chennai            BMW                 BMW X3  \n",
              "0   ₹ 8.21 Lakh  chennai           Ford          Ford Ecosport  "
            ],
            "text/html": [
              "\n",
              "  <div id=\"df-25767f43-28d0-4951-a91b-225e055b5035\" class=\"colab-df-container\">\n",
              "    <div>\n",
              "<style scoped>\n",
              "    .dataframe tbody tr th:only-of-type {\n",
              "        vertical-align: middle;\n",
              "    }\n",
              "\n",
              "    .dataframe tbody tr th {\n",
              "        vertical-align: top;\n",
              "    }\n",
              "\n",
              "    .dataframe thead th {\n",
              "        text-align: right;\n",
              "    }\n",
              "</style>\n",
              "<table border=\"1\" class=\"dataframe\">\n",
              "  <thead>\n",
              "    <tr style=\"text-align: right;\">\n",
              "      <th></th>\n",
              "      <th>ft</th>\n",
              "      <th>o_Kms Driven</th>\n",
              "      <th>transmission</th>\n",
              "      <th>s_Mileage</th>\n",
              "      <th>ownerNo</th>\n",
              "      <th>modelYear</th>\n",
              "      <th>price</th>\n",
              "      <th>city</th>\n",
              "      <th>oem</th>\n",
              "      <th>model</th>\n",
              "    </tr>\n",
              "  </thead>\n",
              "  <tbody>\n",
              "    <tr>\n",
              "      <th>0</th>\n",
              "      <td>Petrol</td>\n",
              "      <td>20,000 Kms</td>\n",
              "      <td>Automatic</td>\n",
              "      <td>NaN</td>\n",
              "      <td>1</td>\n",
              "      <td>2022</td>\n",
              "      <td>₹ 11.50 Lakh</td>\n",
              "      <td>chennai</td>\n",
              "      <td>Kia</td>\n",
              "      <td>Kia Sonet</td>\n",
              "    </tr>\n",
              "    <tr>\n",
              "      <th>0</th>\n",
              "      <td>Petrol</td>\n",
              "      <td>20,687 Kms</td>\n",
              "      <td>Manual</td>\n",
              "      <td>15.37 kmpl</td>\n",
              "      <td>1</td>\n",
              "      <td>2015</td>\n",
              "      <td>₹ 4.15 Lakh</td>\n",
              "      <td>chennai</td>\n",
              "      <td>Maruti</td>\n",
              "      <td>Maruti Eeco</td>\n",
              "    </tr>\n",
              "    <tr>\n",
              "      <th>0</th>\n",
              "      <td>Petrol</td>\n",
              "      <td>30,000 Kms</td>\n",
              "      <td>Manual</td>\n",
              "      <td>20 kmpl</td>\n",
              "      <td>1</td>\n",
              "      <td>2021</td>\n",
              "      <td>₹ 7.50 Lakh</td>\n",
              "      <td>chennai</td>\n",
              "      <td>Nissan</td>\n",
              "      <td>Nissan Magnite</td>\n",
              "    </tr>\n",
              "    <tr>\n",
              "      <th>0</th>\n",
              "      <td>Petrol</td>\n",
              "      <td>59,247 Kms</td>\n",
              "      <td>Manual</td>\n",
              "      <td>19.81 kmpl</td>\n",
              "      <td>1</td>\n",
              "      <td>2015</td>\n",
              "      <td>₹ 3.98 Lakh</td>\n",
              "      <td>chennai</td>\n",
              "      <td>Hyundai</td>\n",
              "      <td>Hyundai i10</td>\n",
              "    </tr>\n",
              "    <tr>\n",
              "      <th>0</th>\n",
              "      <td>Petrol</td>\n",
              "      <td>50,000 Kms</td>\n",
              "      <td>Manual</td>\n",
              "      <td>18.7 kmpl</td>\n",
              "      <td>1</td>\n",
              "      <td>2015</td>\n",
              "      <td>₹ 5.50 Lakh</td>\n",
              "      <td>chennai</td>\n",
              "      <td>Honda</td>\n",
              "      <td>Honda Jazz</td>\n",
              "    </tr>\n",
              "    <tr>\n",
              "      <th>0</th>\n",
              "      <td>Diesel</td>\n",
              "      <td>20,000 Kms</td>\n",
              "      <td>Automatic</td>\n",
              "      <td>13 kmpl</td>\n",
              "      <td>1</td>\n",
              "      <td>2016</td>\n",
              "      <td>₹ 33 Lakh</td>\n",
              "      <td>chennai</td>\n",
              "      <td>Mercedes-Benz</td>\n",
              "      <td>Mercedes-Benz E-Class</td>\n",
              "    </tr>\n",
              "    <tr>\n",
              "      <th>0</th>\n",
              "      <td>Petrol</td>\n",
              "      <td>29,403 Kms</td>\n",
              "      <td>Automatic</td>\n",
              "      <td>23.1 kmpl</td>\n",
              "      <td>1</td>\n",
              "      <td>2016</td>\n",
              "      <td>₹ 4.53 Lakh</td>\n",
              "      <td>chennai</td>\n",
              "      <td>Maruti</td>\n",
              "      <td>Maruti Celerio</td>\n",
              "    </tr>\n",
              "    <tr>\n",
              "      <th>0</th>\n",
              "      <td>Petrol</td>\n",
              "      <td>42,700 Kms</td>\n",
              "      <td>Manual</td>\n",
              "      <td>19 kmpl</td>\n",
              "      <td>1</td>\n",
              "      <td>2010</td>\n",
              "      <td>₹ 2.85 Lakh</td>\n",
              "      <td>chennai</td>\n",
              "      <td>Maruti</td>\n",
              "      <td>Maruti A-Star</td>\n",
              "    </tr>\n",
              "    <tr>\n",
              "      <th>0</th>\n",
              "      <td>Diesel</td>\n",
              "      <td>23,001 Kms</td>\n",
              "      <td>Automatic</td>\n",
              "      <td>16.55 kmpl</td>\n",
              "      <td>1</td>\n",
              "      <td>2018</td>\n",
              "      <td>₹ 50 Lakh</td>\n",
              "      <td>chennai</td>\n",
              "      <td>BMW</td>\n",
              "      <td>BMW X3</td>\n",
              "    </tr>\n",
              "    <tr>\n",
              "      <th>0</th>\n",
              "      <td>Petrol</td>\n",
              "      <td>25,925 Kms</td>\n",
              "      <td>Automatic</td>\n",
              "      <td>14.8 kmpl</td>\n",
              "      <td>2</td>\n",
              "      <td>2018</td>\n",
              "      <td>₹ 8.21 Lakh</td>\n",
              "      <td>chennai</td>\n",
              "      <td>Ford</td>\n",
              "      <td>Ford Ecosport</td>\n",
              "    </tr>\n",
              "  </tbody>\n",
              "</table>\n",
              "</div>\n",
              "    <div class=\"colab-df-buttons\">\n",
              "\n",
              "  <div class=\"colab-df-container\">\n",
              "    <button class=\"colab-df-convert\" onclick=\"convertToInteractive('df-25767f43-28d0-4951-a91b-225e055b5035')\"\n",
              "            title=\"Convert this dataframe to an interactive table.\"\n",
              "            style=\"display:none;\">\n",
              "\n",
              "  <svg xmlns=\"http://www.w3.org/2000/svg\" height=\"24px\" viewBox=\"0 -960 960 960\">\n",
              "    <path d=\"M120-120v-720h720v720H120Zm60-500h600v-160H180v160Zm220 220h160v-160H400v160Zm0 220h160v-160H400v160ZM180-400h160v-160H180v160Zm440 0h160v-160H620v160ZM180-180h160v-160H180v160Zm440 0h160v-160H620v160Z\"/>\n",
              "  </svg>\n",
              "    </button>\n",
              "\n",
              "  <style>\n",
              "    .colab-df-container {\n",
              "      display:flex;\n",
              "      gap: 12px;\n",
              "    }\n",
              "\n",
              "    .colab-df-convert {\n",
              "      background-color: #E8F0FE;\n",
              "      border: none;\n",
              "      border-radius: 50%;\n",
              "      cursor: pointer;\n",
              "      display: none;\n",
              "      fill: #1967D2;\n",
              "      height: 32px;\n",
              "      padding: 0 0 0 0;\n",
              "      width: 32px;\n",
              "    }\n",
              "\n",
              "    .colab-df-convert:hover {\n",
              "      background-color: #E2EBFA;\n",
              "      box-shadow: 0px 1px 2px rgba(60, 64, 67, 0.3), 0px 1px 3px 1px rgba(60, 64, 67, 0.15);\n",
              "      fill: #174EA6;\n",
              "    }\n",
              "\n",
              "    .colab-df-buttons div {\n",
              "      margin-bottom: 4px;\n",
              "    }\n",
              "\n",
              "    [theme=dark] .colab-df-convert {\n",
              "      background-color: #3B4455;\n",
              "      fill: #D2E3FC;\n",
              "    }\n",
              "\n",
              "    [theme=dark] .colab-df-convert:hover {\n",
              "      background-color: #434B5C;\n",
              "      box-shadow: 0px 1px 3px 1px rgba(0, 0, 0, 0.15);\n",
              "      filter: drop-shadow(0px 1px 2px rgba(0, 0, 0, 0.3));\n",
              "      fill: #FFFFFF;\n",
              "    }\n",
              "  </style>\n",
              "\n",
              "    <script>\n",
              "      const buttonEl =\n",
              "        document.querySelector('#df-25767f43-28d0-4951-a91b-225e055b5035 button.colab-df-convert');\n",
              "      buttonEl.style.display =\n",
              "        google.colab.kernel.accessAllowed ? 'block' : 'none';\n",
              "\n",
              "      async function convertToInteractive(key) {\n",
              "        const element = document.querySelector('#df-25767f43-28d0-4951-a91b-225e055b5035');\n",
              "        const dataTable =\n",
              "          await google.colab.kernel.invokeFunction('convertToInteractive',\n",
              "                                                    [key], {});\n",
              "        if (!dataTable) return;\n",
              "\n",
              "        const docLinkHtml = 'Like what you see? Visit the ' +\n",
              "          '<a target=\"_blank\" href=https://colab.research.google.com/notebooks/data_table.ipynb>data table notebook</a>'\n",
              "          + ' to learn more about interactive tables.';\n",
              "        element.innerHTML = '';\n",
              "        dataTable['output_type'] = 'display_data';\n",
              "        await google.colab.output.renderOutput(dataTable, element);\n",
              "        const docLink = document.createElement('div');\n",
              "        docLink.innerHTML = docLinkHtml;\n",
              "        element.appendChild(docLink);\n",
              "      }\n",
              "    </script>\n",
              "  </div>\n",
              "\n",
              "\n",
              "<div id=\"df-b7386073-b16c-47cb-a773-e18c5486c605\">\n",
              "  <button class=\"colab-df-quickchart\" onclick=\"quickchart('df-b7386073-b16c-47cb-a773-e18c5486c605')\"\n",
              "            title=\"Suggest charts\"\n",
              "            style=\"display:none;\">\n",
              "\n",
              "<svg xmlns=\"http://www.w3.org/2000/svg\" height=\"24px\"viewBox=\"0 0 24 24\"\n",
              "     width=\"24px\">\n",
              "    <g>\n",
              "        <path d=\"M19 3H5c-1.1 0-2 .9-2 2v14c0 1.1.9 2 2 2h14c1.1 0 2-.9 2-2V5c0-1.1-.9-2-2-2zM9 17H7v-7h2v7zm4 0h-2V7h2v10zm4 0h-2v-4h2v4z\"/>\n",
              "    </g>\n",
              "</svg>\n",
              "  </button>\n",
              "\n",
              "<style>\n",
              "  .colab-df-quickchart {\n",
              "      --bg-color: #E8F0FE;\n",
              "      --fill-color: #1967D2;\n",
              "      --hover-bg-color: #E2EBFA;\n",
              "      --hover-fill-color: #174EA6;\n",
              "      --disabled-fill-color: #AAA;\n",
              "      --disabled-bg-color: #DDD;\n",
              "  }\n",
              "\n",
              "  [theme=dark] .colab-df-quickchart {\n",
              "      --bg-color: #3B4455;\n",
              "      --fill-color: #D2E3FC;\n",
              "      --hover-bg-color: #434B5C;\n",
              "      --hover-fill-color: #FFFFFF;\n",
              "      --disabled-bg-color: #3B4455;\n",
              "      --disabled-fill-color: #666;\n",
              "  }\n",
              "\n",
              "  .colab-df-quickchart {\n",
              "    background-color: var(--bg-color);\n",
              "    border: none;\n",
              "    border-radius: 50%;\n",
              "    cursor: pointer;\n",
              "    display: none;\n",
              "    fill: var(--fill-color);\n",
              "    height: 32px;\n",
              "    padding: 0;\n",
              "    width: 32px;\n",
              "  }\n",
              "\n",
              "  .colab-df-quickchart:hover {\n",
              "    background-color: var(--hover-bg-color);\n",
              "    box-shadow: 0 1px 2px rgba(60, 64, 67, 0.3), 0 1px 3px 1px rgba(60, 64, 67, 0.15);\n",
              "    fill: var(--button-hover-fill-color);\n",
              "  }\n",
              "\n",
              "  .colab-df-quickchart-complete:disabled,\n",
              "  .colab-df-quickchart-complete:disabled:hover {\n",
              "    background-color: var(--disabled-bg-color);\n",
              "    fill: var(--disabled-fill-color);\n",
              "    box-shadow: none;\n",
              "  }\n",
              "\n",
              "  .colab-df-spinner {\n",
              "    border: 2px solid var(--fill-color);\n",
              "    border-color: transparent;\n",
              "    border-bottom-color: var(--fill-color);\n",
              "    animation:\n",
              "      spin 1s steps(1) infinite;\n",
              "  }\n",
              "\n",
              "  @keyframes spin {\n",
              "    0% {\n",
              "      border-color: transparent;\n",
              "      border-bottom-color: var(--fill-color);\n",
              "      border-left-color: var(--fill-color);\n",
              "    }\n",
              "    20% {\n",
              "      border-color: transparent;\n",
              "      border-left-color: var(--fill-color);\n",
              "      border-top-color: var(--fill-color);\n",
              "    }\n",
              "    30% {\n",
              "      border-color: transparent;\n",
              "      border-left-color: var(--fill-color);\n",
              "      border-top-color: var(--fill-color);\n",
              "      border-right-color: var(--fill-color);\n",
              "    }\n",
              "    40% {\n",
              "      border-color: transparent;\n",
              "      border-right-color: var(--fill-color);\n",
              "      border-top-color: var(--fill-color);\n",
              "    }\n",
              "    60% {\n",
              "      border-color: transparent;\n",
              "      border-right-color: var(--fill-color);\n",
              "    }\n",
              "    80% {\n",
              "      border-color: transparent;\n",
              "      border-right-color: var(--fill-color);\n",
              "      border-bottom-color: var(--fill-color);\n",
              "    }\n",
              "    90% {\n",
              "      border-color: transparent;\n",
              "      border-bottom-color: var(--fill-color);\n",
              "    }\n",
              "  }\n",
              "</style>\n",
              "\n",
              "  <script>\n",
              "    async function quickchart(key) {\n",
              "      const quickchartButtonEl =\n",
              "        document.querySelector('#' + key + ' button');\n",
              "      quickchartButtonEl.disabled = true;  // To prevent multiple clicks.\n",
              "      quickchartButtonEl.classList.add('colab-df-spinner');\n",
              "      try {\n",
              "        const charts = await google.colab.kernel.invokeFunction(\n",
              "            'suggestCharts', [key], {});\n",
              "      } catch (error) {\n",
              "        console.error('Error during call to suggestCharts:', error);\n",
              "      }\n",
              "      quickchartButtonEl.classList.remove('colab-df-spinner');\n",
              "      quickchartButtonEl.classList.add('colab-df-quickchart-complete');\n",
              "    }\n",
              "    (() => {\n",
              "      let quickchartButtonEl =\n",
              "        document.querySelector('#df-b7386073-b16c-47cb-a773-e18c5486c605 button');\n",
              "      quickchartButtonEl.style.display =\n",
              "        google.colab.kernel.accessAllowed ? 'block' : 'none';\n",
              "    })();\n",
              "  </script>\n",
              "</div>\n",
              "\n",
              "    </div>\n",
              "  </div>\n"
            ],
            "application/vnd.google.colaboratory.intrinsic+json": {
              "type": "dataframe",
              "variable_name": "cars_df",
              "summary": "{\n  \"name\": \"cars_df\",\n  \"rows\": 8242,\n  \"fields\": [\n    {\n      \"column\": \"ft\",\n      \"properties\": {\n        \"dtype\": \"category\",\n        \"num_unique_values\": 5,\n        \"samples\": [\n          \"Diesel\",\n          \"Lpg\",\n          \"Electric\"\n        ],\n        \"semantic_type\": \"\",\n        \"description\": \"\"\n      }\n    },\n    {\n      \"column\": \"o_Kms Driven\",\n      \"properties\": {\n        \"dtype\": \"category\",\n        \"num_unique_values\": 4089,\n        \"samples\": [\n          \"10,551 Kms\",\n          \"39,922 Kms\",\n          \"74,134 Kms\"\n        ],\n        \"semantic_type\": \"\",\n        \"description\": \"\"\n      }\n    },\n    {\n      \"column\": \"transmission\",\n      \"properties\": {\n        \"dtype\": \"category\",\n        \"num_unique_values\": 2,\n        \"samples\": [\n          \"Manual\",\n          \"Automatic\"\n        ],\n        \"semantic_type\": \"\",\n        \"description\": \"\"\n      }\n    },\n    {\n      \"column\": \"s_Mileage\",\n      \"properties\": {\n        \"dtype\": \"category\",\n        \"num_unique_values\": 522,\n        \"samples\": [\n          \"10.8 kmpl\",\n          \"10.4 kmpl\"\n        ],\n        \"semantic_type\": \"\",\n        \"description\": \"\"\n      }\n    },\n    {\n      \"column\": \"ownerNo\",\n      \"properties\": {\n        \"dtype\": \"number\",\n        \"std\": 0,\n        \"min\": 0,\n        \"max\": 5,\n        \"num_unique_values\": 6,\n        \"samples\": [\n          1,\n          2\n        ],\n        \"semantic_type\": \"\",\n        \"description\": \"\"\n      }\n    },\n    {\n      \"column\": \"modelYear\",\n      \"properties\": {\n        \"dtype\": \"number\",\n        \"std\": 3,\n        \"min\": 1985,\n        \"max\": 2023,\n        \"num_unique_values\": 29,\n        \"samples\": [\n          1997,\n          2023\n        ],\n        \"semantic_type\": \"\",\n        \"description\": \"\"\n      }\n    },\n    {\n      \"column\": \"price\",\n      \"properties\": {\n        \"dtype\": \"category\",\n        \"num_unique_values\": 1400,\n        \"samples\": [\n          \"\\u20b9 8.34 Lakh\",\n          \"\\u20b9 44.25 Lakh\"\n        ],\n        \"semantic_type\": \"\",\n        \"description\": \"\"\n      }\n    },\n    {\n      \"column\": \"city\",\n      \"properties\": {\n        \"dtype\": \"category\",\n        \"num_unique_values\": 6,\n        \"samples\": [\n          \"chennai\",\n          \"bangalore\"\n        ],\n        \"semantic_type\": \"\",\n        \"description\": \"\"\n      }\n    },\n    {\n      \"column\": \"oem\",\n      \"properties\": {\n        \"dtype\": \"category\",\n        \"num_unique_values\": 33,\n        \"samples\": [\n          \"Porsche\",\n          \"Volkswagen\"\n        ],\n        \"semantic_type\": \"\",\n        \"description\": \"\"\n      }\n    },\n    {\n      \"column\": \"model\",\n      \"properties\": {\n        \"dtype\": \"category\",\n        \"num_unique_values\": 315,\n        \"samples\": [\n          \"Hyundai Tucson\",\n          \"Mahindra XUV300\"\n        ],\n        \"semantic_type\": \"\",\n        \"description\": \"\"\n      }\n    }\n  ]\n}"
            }
          },
          "metadata": {},
          "execution_count": 9
        }
      ]
    },
    {
      "cell_type": "code",
      "source": [
        "cars_df['mileage'] = cars_df['s_Mileage'].str.replace(' kmpl','')\n",
        "cars_df['mileage'] = cars_df['mileage'].str.replace(' km/kg','')\n",
        "cars_df['mileage'] = pd.to_numeric(cars_df['mileage'])\n",
        "cars_df['mileage'].info()"
      ],
      "metadata": {
        "colab": {
          "base_uri": "https://localhost:8080/"
        },
        "id": "5XDphpFYq-2r",
        "outputId": "1f5f5723-9970-4ee3-dbdc-05237bf46eb3"
      },
      "execution_count": 10,
      "outputs": [
        {
          "output_type": "stream",
          "name": "stdout",
          "text": [
            "<class 'pandas.core.series.Series'>\n",
            "Index: 8242 entries, 0 to 0\n",
            "Series name: mileage\n",
            "Non-Null Count  Dtype  \n",
            "--------------  -----  \n",
            "7961 non-null   float64\n",
            "dtypes: float64(1)\n",
            "memory usage: 128.8 KB\n"
          ]
        },
        {
          "output_type": "stream",
          "name": "stderr",
          "text": [
            "<ipython-input-10-fd0afa07fdac>:1: SettingWithCopyWarning: \n",
            "A value is trying to be set on a copy of a slice from a DataFrame.\n",
            "Try using .loc[row_indexer,col_indexer] = value instead\n",
            "\n",
            "See the caveats in the documentation: https://pandas.pydata.org/pandas-docs/stable/user_guide/indexing.html#returning-a-view-versus-a-copy\n",
            "  cars_df['mileage'] = cars_df['s_Mileage'].str.replace(' kmpl','')\n",
            "<ipython-input-10-fd0afa07fdac>:2: SettingWithCopyWarning: \n",
            "A value is trying to be set on a copy of a slice from a DataFrame.\n",
            "Try using .loc[row_indexer,col_indexer] = value instead\n",
            "\n",
            "See the caveats in the documentation: https://pandas.pydata.org/pandas-docs/stable/user_guide/indexing.html#returning-a-view-versus-a-copy\n",
            "  cars_df['mileage'] = cars_df['mileage'].str.replace(' km/kg','')\n",
            "<ipython-input-10-fd0afa07fdac>:3: SettingWithCopyWarning: \n",
            "A value is trying to be set on a copy of a slice from a DataFrame.\n",
            "Try using .loc[row_indexer,col_indexer] = value instead\n",
            "\n",
            "See the caveats in the documentation: https://pandas.pydata.org/pandas-docs/stable/user_guide/indexing.html#returning-a-view-versus-a-copy\n",
            "  cars_df['mileage'] = pd.to_numeric(cars_df['mileage'])\n"
          ]
        }
      ]
    },
    {
      "cell_type": "code",
      "source": [
        "cars_df['mileage'].fillna(cars_df['mileage'].median(), inplace=True)\n",
        "cars_df.drop('s_Mileage', axis=1, inplace=True)\n",
        "cars_df.info()"
      ],
      "metadata": {
        "colab": {
          "base_uri": "https://localhost:8080/"
        },
        "id": "xPy1kuwIrFjk",
        "outputId": "595134c8-093d-4c2e-deaf-9dc4a54d9322"
      },
      "execution_count": 11,
      "outputs": [
        {
          "output_type": "stream",
          "name": "stdout",
          "text": [
            "<class 'pandas.core.frame.DataFrame'>\n",
            "Index: 8242 entries, 0 to 0\n",
            "Data columns (total 10 columns):\n",
            " #   Column        Non-Null Count  Dtype  \n",
            "---  ------        --------------  -----  \n",
            " 0   ft            8242 non-null   object \n",
            " 1   o_Kms Driven  8240 non-null   object \n",
            " 2   transmission  8242 non-null   object \n",
            " 3   ownerNo       8242 non-null   int64  \n",
            " 4   modelYear     8242 non-null   int64  \n",
            " 5   price         8242 non-null   object \n",
            " 6   city          8242 non-null   object \n",
            " 7   oem           8242 non-null   object \n",
            " 8   model         8242 non-null   object \n",
            " 9   mileage       8242 non-null   float64\n",
            "dtypes: float64(1), int64(2), object(7)\n",
            "memory usage: 708.3+ KB\n"
          ]
        },
        {
          "output_type": "stream",
          "name": "stderr",
          "text": [
            "<ipython-input-11-0be0222b6a4b>:1: FutureWarning: A value is trying to be set on a copy of a DataFrame or Series through chained assignment using an inplace method.\n",
            "The behavior will change in pandas 3.0. This inplace method will never work because the intermediate object on which we are setting values always behaves as a copy.\n",
            "\n",
            "For example, when doing 'df[col].method(value, inplace=True)', try using 'df.method({col: value}, inplace=True)' or df[col] = df[col].method(value) instead, to perform the operation inplace on the original object.\n",
            "\n",
            "\n",
            "  cars_df['mileage'].fillna(cars_df['mileage'].median(), inplace=True)\n",
            "<ipython-input-11-0be0222b6a4b>:1: SettingWithCopyWarning: \n",
            "A value is trying to be set on a copy of a slice from a DataFrame\n",
            "\n",
            "See the caveats in the documentation: https://pandas.pydata.org/pandas-docs/stable/user_guide/indexing.html#returning-a-view-versus-a-copy\n",
            "  cars_df['mileage'].fillna(cars_df['mileage'].median(), inplace=True)\n",
            "<ipython-input-11-0be0222b6a4b>:2: SettingWithCopyWarning: \n",
            "A value is trying to be set on a copy of a slice from a DataFrame\n",
            "\n",
            "See the caveats in the documentation: https://pandas.pydata.org/pandas-docs/stable/user_guide/indexing.html#returning-a-view-versus-a-copy\n",
            "  cars_df.drop('s_Mileage', axis=1, inplace=True)\n"
          ]
        }
      ]
    },
    {
      "cell_type": "code",
      "source": [
        "cars_df['o_Kms'] = cars_df['o_Kms Driven'].str.replace(' Kms', '')\n",
        "cars_df['o_Kms'] = cars_df['o_Kms'].str.replace(',', '')\n",
        "cars_df['o_Kms'] = pd.to_numeric(cars_df['o_Kms'])\n",
        "cars_df.drop('o_Kms Driven', axis=1, inplace=True)\n",
        "cars_df['o_Kms'].info()"
      ],
      "metadata": {
        "colab": {
          "base_uri": "https://localhost:8080/"
        },
        "id": "5mWFnOo_rNuC",
        "outputId": "3c2ba147-15e7-4e4c-8cbb-4bb02f72d0be"
      },
      "execution_count": 12,
      "outputs": [
        {
          "output_type": "stream",
          "name": "stdout",
          "text": [
            "<class 'pandas.core.series.Series'>\n",
            "Index: 8242 entries, 0 to 0\n",
            "Series name: o_Kms\n",
            "Non-Null Count  Dtype  \n",
            "--------------  -----  \n",
            "8240 non-null   float64\n",
            "dtypes: float64(1)\n",
            "memory usage: 128.8 KB\n"
          ]
        }
      ]
    },
    {
      "cell_type": "code",
      "source": [
        "cars_df['o_Kms'].fillna(cars_df['o_Kms'].median(), inplace=True)\n",
        "\n",
        "cars_df.info()"
      ],
      "metadata": {
        "colab": {
          "base_uri": "https://localhost:8080/"
        },
        "id": "iXMeGlWDrRgz",
        "outputId": "4dbb56d8-4147-484a-82a4-4d4e5628d75c"
      },
      "execution_count": 13,
      "outputs": [
        {
          "output_type": "stream",
          "name": "stdout",
          "text": [
            "<class 'pandas.core.frame.DataFrame'>\n",
            "Index: 8242 entries, 0 to 0\n",
            "Data columns (total 10 columns):\n",
            " #   Column        Non-Null Count  Dtype  \n",
            "---  ------        --------------  -----  \n",
            " 0   ft            8242 non-null   object \n",
            " 1   transmission  8242 non-null   object \n",
            " 2   ownerNo       8242 non-null   int64  \n",
            " 3   modelYear     8242 non-null   int64  \n",
            " 4   price         8242 non-null   object \n",
            " 5   city          8242 non-null   object \n",
            " 6   oem           8242 non-null   object \n",
            " 7   model         8242 non-null   object \n",
            " 8   mileage       8242 non-null   float64\n",
            " 9   o_Kms         8242 non-null   float64\n",
            "dtypes: float64(2), int64(2), object(6)\n",
            "memory usage: 708.3+ KB\n"
          ]
        },
        {
          "output_type": "stream",
          "name": "stderr",
          "text": [
            "<ipython-input-13-da1efa95b545>:1: FutureWarning: A value is trying to be set on a copy of a DataFrame or Series through chained assignment using an inplace method.\n",
            "The behavior will change in pandas 3.0. This inplace method will never work because the intermediate object on which we are setting values always behaves as a copy.\n",
            "\n",
            "For example, when doing 'df[col].method(value, inplace=True)', try using 'df.method({col: value}, inplace=True)' or df[col] = df[col].method(value) instead, to perform the operation inplace on the original object.\n",
            "\n",
            "\n",
            "  cars_df['o_Kms'].fillna(cars_df['o_Kms'].median(), inplace=True)\n"
          ]
        }
      ]
    },
    {
      "cell_type": "code",
      "source": [
        "sns.boxplot(cars_df['o_Kms'])"
      ],
      "metadata": {
        "colab": {
          "base_uri": "https://localhost:8080/",
          "height": 444
        },
        "id": "9QMQvy-IrUxq",
        "outputId": "b595b4bd-3dc4-4327-964d-1ee26fedcd39"
      },
      "execution_count": 14,
      "outputs": [
        {
          "output_type": "execute_result",
          "data": {
            "text/plain": [
              "<Axes: ylabel='o_Kms'>"
            ]
          },
          "metadata": {},
          "execution_count": 14
        },
        {
          "output_type": "display_data",
          "data": {
            "text/plain": [
              "<Figure size 640x480 with 1 Axes>"
            ],
            "image/png": "[encoded data removed]"
          },
          "metadata": {}
        }
      ]
    },
    {
      "cell_type": "code",
      "source": [
        "sns.boxplot(cars_df['mileage'])"
      ],
      "metadata": {
        "colab": {
          "base_uri": "https://localhost:8080/",
          "height": 429
        },
        "id": "hELP4tYerXCb",
        "outputId": "a134ab85-05f0-4734-ce49-95d3f4f2f81a"
      },
      "execution_count": 15,
      "outputs": [
        {
          "output_type": "execute_result",
          "data": {
            "text/plain": [
              "<Axes: ylabel='mileage'>"
            ]
          },
          "metadata": {},
          "execution_count": 15
        },
        {
          "output_type": "display_data",
          "data": {
            "text/plain": [
              "<Figure size 640x480 with 1 Axes>"
            ],
            "image/png": "[encoded data removed]"
          },
          "metadata": {}
        }
      ]
    },
    {
      "cell_type": "code",
      "source": [
        "def remove_outlier(df, columnName):\n",
        "  Q1 = df[columnName].quantile(0.25)\n",
        "  Q3 = df[columnName].quantile(0.75)\n",
        "  IQR = Q3 - Q1\n",
        "  lower_bound = Q1 - 1.5 * IQR\n",
        "  upper_bound = Q3 + 1.5 * IQR\n",
        "  df = df[(df[columnName] >= lower_bound) & (df[columnName] <= upper_bound)]\n",
        "  return df"
      ],
      "metadata": {
        "id": "TlsaXQ1IrYDi"
      },
      "execution_count": 16,
      "outputs": []
    },
    {
      "cell_type": "code",
      "source": [
        "cars_df = remove_outlier(cars_df, 'o_Kms')\n",
        "cars_df = remove_outlier(cars_df, 'mileage')\n",
        "len(cars_df)"
      ],
      "metadata": {
        "colab": {
          "base_uri": "https://localhost:8080/"
        },
        "id": "eKAbeychraoj",
        "outputId": "0b6602f5-7d16-4e26-bf7c-aac9dd736d34"
      },
      "execution_count": 17,
      "outputs": [
        {
          "output_type": "execute_result",
          "data": {
            "text/plain": [
              "8042"
            ]
          },
          "metadata": {},
          "execution_count": 17
        }
      ]
    },
    {
      "cell_type": "code",
      "source": [
        "sns.boxplot(cars_df['o_Kms'])\n"
      ],
      "metadata": {
        "colab": {
          "base_uri": "https://localhost:8080/",
          "height": 429
        },
        "id": "7FhjGuz9reET",
        "outputId": "c7c260fd-52a1-4b21-f4b1-5fbe3a3ec45f"
      },
      "execution_count": 18,
      "outputs": [
        {
          "output_type": "execute_result",
          "data": {
            "text/plain": [
              "<Axes: ylabel='o_Kms'>"
            ]
          },
          "metadata": {},
          "execution_count": 18
        },
        {
          "output_type": "display_data",
          "data": {
            "text/plain": [
              "<Figure size 640x480 with 1 Axes>"
            ],
            "image/png": "[encoded data removed]"
          },
          "metadata": {}
        }
      ]
    },
    {
      "cell_type": "code",
      "source": [
        "sns.boxplot(cars_df['mileage'])"
      ],
      "metadata": {
        "colab": {
          "base_uri": "https://localhost:8080/",
          "height": 429
        },
        "id": "LqlpPGy0rh1K",
        "outputId": "88017f5b-e4d1-464b-c258-a6da55c7fac5"
      },
      "execution_count": 19,
      "outputs": [
        {
          "output_type": "execute_result",
          "data": {
            "text/plain": [
              "<Axes: ylabel='mileage'>"
            ]
          },
          "metadata": {},
          "execution_count": 19
        },
        {
          "output_type": "display_data",
          "data": {
            "text/plain": [
              "<Figure size 640x480 with 1 Axes>"
            ],
            "image/png": "[encoded data removed]"
          },
          "metadata": {}
        }
      ]
    },
    {
      "cell_type": "code",
      "source": [
        "cars_df.info()"
      ],
      "metadata": {
        "colab": {
          "base_uri": "https://localhost:8080/"
        },
        "id": "8ub0rqiQrjzS",
        "outputId": "ed02649b-7bff-4b7d-b682-4385438b35c1"
      },
      "execution_count": 20,
      "outputs": [
        {
          "output_type": "stream",
          "name": "stdout",
          "text": [
            "<class 'pandas.core.frame.DataFrame'>\n",
            "Index: 8042 entries, 0 to 0\n",
            "Data columns (total 10 columns):\n",
            " #   Column        Non-Null Count  Dtype  \n",
            "---  ------        --------------  -----  \n",
            " 0   ft            8042 non-null   object \n",
            " 1   transmission  8042 non-null   object \n",
            " 2   ownerNo       8042 non-null   int64  \n",
            " 3   modelYear     8042 non-null   int64  \n",
            " 4   price         8042 non-null   object \n",
            " 5   city          8042 non-null   object \n",
            " 6   oem           8042 non-null   object \n",
            " 7   model         8042 non-null   object \n",
            " 8   mileage       8042 non-null   float64\n",
            " 9   o_Kms         8042 non-null   float64\n",
            "dtypes: float64(2), int64(2), object(6)\n",
            "memory usage: 691.1+ KB\n"
          ]
        }
      ]
    },
    {
      "cell_type": "code",
      "source": [
        "def convert_number(input):\n",
        "  if(input.endswith(' Lakh')):\n",
        "    return float(input[:-5])*100000\n",
        "  elif(input.endswith(' Crore')):\n",
        "    return float(input[:-6])*10000000\n",
        "  else:\n",
        "    return float(input)"
      ],
      "metadata": {
        "id": "4II1f1D1rmd6"
      },
      "execution_count": 21,
      "outputs": []
    },
    {
      "cell_type": "code",
      "source": [
        "cars_df['t_price'] = cars_df['price'].str.replace('₹ ','')\n",
        "cars_df['t_price'] = cars_df['t_price'].str.replace(',','')\n",
        "cars_df['t_price'] = cars_df['t_price'].apply(convert_number)\n",
        "cars_df.drop('price', axis=1, inplace=True)\n",
        "cars_df.info()"
      ],
      "metadata": {
        "colab": {
          "base_uri": "https://localhost:8080/"
        },
        "id": "XfXcEjZmrnsh",
        "outputId": "bce8231d-65db-4268-fb0d-beeada868dbb"
      },
      "execution_count": 22,
      "outputs": [
        {
          "output_type": "stream",
          "name": "stdout",
          "text": [
            "<class 'pandas.core.frame.DataFrame'>\n",
            "Index: 8042 entries, 0 to 0\n",
            "Data columns (total 10 columns):\n",
            " #   Column        Non-Null Count  Dtype  \n",
            "---  ------        --------------  -----  \n",
            " 0   ft            8042 non-null   object \n",
            " 1   transmission  8042 non-null   object \n",
            " 2   ownerNo       8042 non-null   int64  \n",
            " 3   modelYear     8042 non-null   int64  \n",
            " 4   city          8042 non-null   object \n",
            " 5   oem           8042 non-null   object \n",
            " 6   model         8042 non-null   object \n",
            " 7   mileage       8042 non-null   float64\n",
            " 8   o_Kms         8042 non-null   float64\n",
            " 9   t_price       8042 non-null   float64\n",
            "dtypes: float64(3), int64(2), object(5)\n",
            "memory usage: 691.1+ KB\n"
          ]
        }
      ]
    },
    {
      "cell_type": "code",
      "source": [
        "cars_df_encoded = pd.get_dummies(cars_df, columns=['transmission','city','ft','oem','model'], drop_first=True)"
      ],
      "metadata": {
        "id": "hLJdlQdXruXq"
      },
      "execution_count": 24,
      "outputs": []
    },
    {
      "cell_type": "code",
      "source": [
        "corr_df = cars_df_encoded.corr().unstack().reset_index()\n",
        "corr_df[corr_df['level_0'] == 't_price']"
      ],
      "metadata": {
        "id": "A9CcsHOmrvK6",
        "colab": {
          "base_uri": "https://localhost:8080/",
          "height": 423
        },
        "outputId": "2ab379e5-a7c7-4d07-ba0b-f85366d2b5ee"
      },
      "execution_count": 25,
      "outputs": [
        {
          "output_type": "execute_result",
          "data": {
            "text/plain": [
              "      level_0            level_1         0\n",
              "1424  t_price            ownerNo -0.123363\n",
              "1425  t_price          modelYear  0.306141\n",
              "1426  t_price            mileage -0.282525\n",
              "1427  t_price              o_Kms -0.215394\n",
              "1428  t_price            t_price  1.000000\n",
              "...       ...                ...       ...\n",
              "1775  t_price    model_Volvo S90  0.031517\n",
              "1776  t_price    model_Volvo V40  0.009861\n",
              "1777  t_price  model_Volvo XC 90  0.068775\n",
              "1778  t_price   model_Volvo XC40  0.080150\n",
              "1779  t_price   model_Volvo XC60  0.076690\n",
              "\n",
              "[356 rows x 3 columns]"
            ],
            "text/html": [
              "\n",
              "  <div id=\"df-ec28ede1-3651-4b64-af52-2f81d696f6d3\" class=\"colab-df-container\">\n",
              "    <div>\n",
              "<style scoped>\n",
              "    .dataframe tbody tr th:only-of-type {\n",
              "        vertical-align: middle;\n",
              "    }\n",
              "\n",
              "    .dataframe tbody tr th {\n",
              "        vertical-align: top;\n",
              "    }\n",
              "\n",
              "    .dataframe thead th {\n",
              "        text-align: right;\n",
              "    }\n",
              "</style>\n",
              "<table border=\"1\" class=\"dataframe\">\n",
              "  <thead>\n",
              "    <tr style=\"text-align: right;\">\n",
              "      <th></th>\n",
              "      <th>level_0</th>\n",
              "      <th>level_1</th>\n",
              "      <th>0</th>\n",
              "    </tr>\n",
              "  </thead>\n",
              "  <tbody>\n",
              "    <tr>\n",
              "      <th>1424</th>\n",
              "      <td>t_price</td>\n",
              "      <td>ownerNo</td>\n",
              "      <td>-0.123363</td>\n",
              "    </tr>\n",
              "    <tr>\n",
              "      <th>1425</th>\n",
              "      <td>t_price</td>\n",
              "      <td>modelYear</td>\n",
              "      <td>0.306141</td>\n",
              "    </tr>\n",
              "    <tr>\n",
              "      <th>1426</th>\n",
              "      <td>t_price</td>\n",
              "      <td>mileage</td>\n",
              "      <td>-0.282525</td>\n",
              "    </tr>\n",
              "    <tr>\n",
              "      <th>1427</th>\n",
              "      <td>t_price</td>\n",
              "      <td>o_Kms</td>\n",
              "      <td>-0.215394</td>\n",
              "    </tr>\n",
              "    <tr>\n",
              "      <th>1428</th>\n",
              "      <td>t_price</td>\n",
              "      <td>t_price</td>\n",
              "      <td>1.000000</td>\n",
              "    </tr>\n",
              "    <tr>\n",
              "      <th>...</th>\n",
              "      <td>...</td>\n",
              "      <td>...</td>\n",
              "      <td>...</td>\n",
              "    </tr>\n",
              "    <tr>\n",
              "      <th>1775</th>\n",
              "      <td>t_price</td>\n",
              "      <td>model_Volvo S90</td>\n",
              "      <td>0.031517</td>\n",
              "    </tr>\n",
              "    <tr>\n",
              "      <th>1776</th>\n",
              "      <td>t_price</td>\n",
              "      <td>model_Volvo V40</td>\n",
              "      <td>0.009861</td>\n",
              "    </tr>\n",
              "    <tr>\n",
              "      <th>1777</th>\n",
              "      <td>t_price</td>\n",
              "      <td>model_Volvo XC 90</td>\n",
              "      <td>0.068775</td>\n",
              "    </tr>\n",
              "    <tr>\n",
              "      <th>1778</th>\n",
              "      <td>t_price</td>\n",
              "      <td>model_Volvo XC40</td>\n",
              "      <td>0.080150</td>\n",
              "    </tr>\n",
              "    <tr>\n",
              "      <th>1779</th>\n",
              "      <td>t_price</td>\n",
              "      <td>model_Volvo XC60</td>\n",
              "      <td>0.076690</td>\n",
              "    </tr>\n",
              "  </tbody>\n",
              "</table>\n",
              "<p>356 rows × 3 columns</p>\n",
              "</div>\n",
              "    <div class=\"colab-df-buttons\">\n",
              "\n",
              "  <div class=\"colab-df-container\">\n",
              "    <button class=\"colab-df-convert\" onclick=\"convertToInteractive('df-ec28ede1-3651-4b64-af52-2f81d696f6d3')\"\n",
              "            title=\"Convert this dataframe to an interactive table.\"\n",
              "            style=\"display:none;\">\n",
              "\n",
              "  <svg xmlns=\"http://www.w3.org/2000/svg\" height=\"24px\" viewBox=\"0 -960 960 960\">\n",
              "    <path d=\"M120-120v-720h720v720H120Zm60-500h600v-160H180v160Zm220 220h160v-160H400v160Zm0 220h160v-160H400v160ZM180-400h160v-160H180v160Zm440 0h160v-160H620v160ZM180-180h160v-160H180v160Zm440 0h160v-160H620v160Z\"/>\n",
              "  </svg>\n",
              "    </button>\n",
              "\n",
              "  <style>\n",
              "    .colab-df-container {\n",
              "      display:flex;\n",
              "      gap: 12px;\n",
              "    }\n",
              "\n",
              "    .colab-df-convert {\n",
              "      background-color: #E8F0FE;\n",
              "      border: none;\n",
              "      border-radius: 50%;\n",
              "      cursor: pointer;\n",
              "      display: none;\n",
              "      fill: #1967D2;\n",
              "      height: 32px;\n",
              "      padding: 0 0 0 0;\n",
              "      width: 32px;\n",
              "    }\n",
              "\n",
              "    .colab-df-convert:hover {\n",
              "      background-color: #E2EBFA;\n",
              "      box-shadow: 0px 1px 2px rgba(60, 64, 67, 0.3), 0px 1px 3px 1px rgba(60, 64, 67, 0.15);\n",
              "      fill: #174EA6;\n",
              "    }\n",
              "\n",
              "    .colab-df-buttons div {\n",
              "      margin-bottom: 4px;\n",
              "    }\n",
              "\n",
              "    [theme=dark] .colab-df-convert {\n",
              "      background-color: #3B4455;\n",
              "      fill: #D2E3FC;\n",
              "    }\n",
              "\n",
              "    [theme=dark] .colab-df-convert:hover {\n",
              "      background-color: #434B5C;\n",
              "      box-shadow: 0px 1px 3px 1px rgba(0, 0, 0, 0.15);\n",
              "      filter: drop-shadow(0px 1px 2px rgba(0, 0, 0, 0.3));\n",
              "      fill: #FFFFFF;\n",
              "    }\n",
              "  </style>\n",
              "\n",
              "    <script>\n",
              "      const buttonEl =\n",
              "        document.querySelector('#df-ec28ede1-3651-4b64-af52-2f81d696f6d3 button.colab-df-convert');\n",
              "      buttonEl.style.display =\n",
              "        google.colab.kernel.accessAllowed ? 'block' : 'none';\n",
              "\n",
              "      async function convertToInteractive(key) {\n",
              "        const element = document.querySelector('#df-ec28ede1-3651-4b64-af52-2f81d696f6d3');\n",
              "        const dataTable =\n",
              "          await google.colab.kernel.invokeFunction('convertToInteractive',\n",
              "                                                    [key], {});\n",
              "        if (!dataTable) return;\n",
              "\n",
              "        const docLinkHtml = 'Like what you see? Visit the ' +\n",
              "          '<a target=\"_blank\" href=https://colab.research.google.com/notebooks/data_table.ipynb>data table notebook</a>'\n",
              "          + ' to learn more about interactive tables.';\n",
              "        element.innerHTML = '';\n",
              "        dataTable['output_type'] = 'display_data';\n",
              "        await google.colab.output.renderOutput(dataTable, element);\n",
              "        const docLink = document.createElement('div');\n",
              "        docLink.innerHTML = docLinkHtml;\n",
              "        element.appendChild(docLink);\n",
              "      }\n",
              "    </script>\n",
              "  </div>\n",
              "\n",
              "\n",
              "<div id=\"df-1445441f-d9ea-444b-aeae-0aff2fa182e9\">\n",
              "  <button class=\"colab-df-quickchart\" onclick=\"quickchart('df-1445441f-d9ea-444b-aeae-0aff2fa182e9')\"\n",
              "            title=\"Suggest charts\"\n",
              "            style=\"display:none;\">\n",
              "\n",
              "<svg xmlns=\"http://www.w3.org/2000/svg\" height=\"24px\"viewBox=\"0 0 24 24\"\n",
              "     width=\"24px\">\n",
              "    <g>\n",
              "        <path d=\"M19 3H5c-1.1 0-2 .9-2 2v14c0 1.1.9 2 2 2h14c1.1 0 2-.9 2-2V5c0-1.1-.9-2-2-2zM9 17H7v-7h2v7zm4 0h-2V7h2v10zm4 0h-2v-4h2v4z\"/>\n",
              "    </g>\n",
              "</svg>\n",
              "  </button>\n",
              "\n",
              "<style>\n",
              "  .colab-df-quickchart {\n",
              "      --bg-color: #E8F0FE;\n",
              "      --fill-color: #1967D2;\n",
              "      --hover-bg-color: #E2EBFA;\n",
              "      --hover-fill-color: #174EA6;\n",
              "      --disabled-fill-color: #AAA;\n",
              "      --disabled-bg-color: #DDD;\n",
              "  }\n",
              "\n",
              "  [theme=dark] .colab-df-quickchart {\n",
              "      --bg-color: #3B4455;\n",
              "      --fill-color: #D2E3FC;\n",
              "      --hover-bg-color: #434B5C;\n",
              "      --hover-fill-color: #FFFFFF;\n",
              "      --disabled-bg-color: #3B4455;\n",
              "      --disabled-fill-color: #666;\n",
              "  }\n",
              "\n",
              "  .colab-df-quickchart {\n",
              "    background-color: var(--bg-color);\n",
              "    border: none;\n",
              "    border-radius: 50%;\n",
              "    cursor: pointer;\n",
              "    display: none;\n",
              "    fill: var(--fill-color);\n",
              "    height: 32px;\n",
              "    padding: 0;\n",
              "    width: 32px;\n",
              "  }\n",
              "\n",
              "  .colab-df-quickchart:hover {\n",
              "    background-color: var(--hover-bg-color);\n",
              "    box-shadow: 0 1px 2px rgba(60, 64, 67, 0.3), 0 1px 3px 1px rgba(60, 64, 67, 0.15);\n",
              "    fill: var(--button-hover-fill-color);\n",
              "  }\n",
              "\n",
              "  .colab-df-quickchart-complete:disabled,\n",
              "  .colab-df-quickchart-complete:disabled:hover {\n",
              "    background-color: var(--disabled-bg-color);\n",
              "    fill: var(--disabled-fill-color);\n",
              "    box-shadow: none;\n",
              "  }\n",
              "\n",
              "  .colab-df-spinner {\n",
              "    border: 2px solid var(--fill-color);\n",
              "    border-color: transparent;\n",
              "    border-bottom-color: var(--fill-color);\n",
              "    animation:\n",
              "      spin 1s steps(1) infinite;\n",
              "  }\n",
              "\n",
              "  @keyframes spin {\n",
              "    0% {\n",
              "      border-color: transparent;\n",
              "      border-bottom-color: var(--fill-color);\n",
              "      border-left-color: var(--fill-color);\n",
              "    }\n",
              "    20% {\n",
              "      border-color: transparent;\n",
              "      border-left-color: var(--fill-color);\n",
              "      border-top-color: var(--fill-color);\n",
              "    }\n",
              "    30% {\n",
              "      border-color: transparent;\n",
              "      border-left-color: var(--fill-color);\n",
              "      border-top-color: var(--fill-color);\n",
              "      border-right-color: var(--fill-color);\n",
              "    }\n",
              "    40% {\n",
              "      border-color: transparent;\n",
              "      border-right-color: var(--fill-color);\n",
              "      border-top-color: var(--fill-color);\n",
              "    }\n",
              "    60% {\n",
              "      border-color: transparent;\n",
              "      border-right-color: var(--fill-color);\n",
              "    }\n",
              "    80% {\n",
              "      border-color: transparent;\n",
              "      border-right-color: var(--fill-color);\n",
              "      border-bottom-color: var(--fill-color);\n",
              "    }\n",
              "    90% {\n",
              "      border-color: transparent;\n",
              "      border-bottom-color: var(--fill-color);\n",
              "    }\n",
              "  }\n",
              "</style>\n",
              "\n",
              "  <script>\n",
              "    async function quickchart(key) {\n",
              "      const quickchartButtonEl =\n",
              "        document.querySelector('#' + key + ' button');\n",
              "      quickchartButtonEl.disabled = true;  // To prevent multiple clicks.\n",
              "      quickchartButtonEl.classList.add('colab-df-spinner');\n",
              "      try {\n",
              "        const charts = await google.colab.kernel.invokeFunction(\n",
              "            'suggestCharts', [key], {});\n",
              "      } catch (error) {\n",
              "        console.error('Error during call to suggestCharts:', error);\n",
              "      }\n",
              "      quickchartButtonEl.classList.remove('colab-df-spinner');\n",
              "      quickchartButtonEl.classList.add('colab-df-quickchart-complete');\n",
              "    }\n",
              "    (() => {\n",
              "      let quickchartButtonEl =\n",
              "        document.querySelector('#df-1445441f-d9ea-444b-aeae-0aff2fa182e9 button');\n",
              "      quickchartButtonEl.style.display =\n",
              "        google.colab.kernel.accessAllowed ? 'block' : 'none';\n",
              "    })();\n",
              "  </script>\n",
              "</div>\n",
              "\n",
              "    </div>\n",
              "  </div>\n"
            ],
            "application/vnd.google.colaboratory.intrinsic+json": {
              "type": "dataframe",
              "summary": "{\n  \"name\": \"corr_df[corr_df['level_0'] == 't_price']\",\n  \"rows\": 356,\n  \"fields\": [\n    {\n      \"column\": \"level_0\",\n      \"properties\": {\n        \"dtype\": \"category\",\n        \"num_unique_values\": 1,\n        \"samples\": [\n          \"t_price\"\n        ],\n        \"semantic_type\": \"\",\n        \"description\": \"\"\n      }\n    },\n    {\n      \"column\": \"level_1\",\n      \"properties\": {\n        \"dtype\": \"string\",\n        \"num_unique_values\": 356,\n        \"samples\": [\n          \"model_Maruti Wagon R\"\n        ],\n        \"semantic_type\": \"\",\n        \"description\": \"\"\n      }\n    },\n    {\n      \"column\": 0,\n      \"properties\": {\n        \"dtype\": \"number\",\n        \"std\": 0.08800870235228292,\n        \"min\": -0.42761826302020123,\n        \"max\": 1.0,\n        \"num_unique_values\": 353,\n        \"samples\": [\n          -0.004787980355097536\n        ],\n        \"semantic_type\": \"\",\n        \"description\": \"\"\n      }\n    }\n  ]\n}"
            }
          },
          "metadata": {},
          "execution_count": 25
        }
      ]
    },
    {
      "cell_type": "code",
      "source": [
        "preprocessor = ColumnTransformer(\n",
        "    transformers=[\n",
        "        ('categorical_values', OneHotEncoder(handle_unknown='ignore'), ['ft','transmission','city','oem','model']),  # One-hot encode the categorical feature\n",
        "        ('numerical_values', StandardScaler(), ['ownerNo', 'modelYear','mileage','o_Kms']),  # Standard scale the numerical features\n",
        "    ]\n",
        ")\n",
        "\n",
        "model_pipeline = Pipeline(steps=[\n",
        "    ('preprocessor', preprocessor),  # Apply preprocessing\n",
        "    ('model', LinearRegression())  # Fit the linear regression model\n",
        "])"
      ],
      "metadata": {
        "id": "VhiGYl3Jr7KJ"
      },
      "execution_count": 26,
      "outputs": []
    },
    {
      "cell_type": "code",
      "source": [
        "def fit_transform(X, y, model_pipeline, name):\n",
        "  test_size, random_value = (20, 17)\n",
        "  X_train, X_test, y_train, y_test = train_test_split(X, y, test_size=test_size/100, random_state=random_value)\n",
        "\n",
        "  model_pipeline.fit(X_train, y_train)\n",
        "\n",
        "  mse_train = mean_squared_error(y_train, model_pipeline.predict(X_train))\n",
        "  mse_test = mean_squared_error(y_test, model_pipeline.predict(X_test))\n",
        "\n",
        "  print(name, test_size/100, random_value, r2_score(y_train, model_pipeline.predict(X_train)), r2_score(y_test, model_pipeline.predict(X_test)))\n",
        "\n",
        "  joblib.dump(model_pipeline, f'./{name}_model.pkl')\n",
        "\n",
        "  return model_pipeline\n",
        "\n"
      ],
      "metadata": {
        "id": "Bp8bHzOAr_4J"
      },
      "execution_count": 27,
      "outputs": []
    },
    {
      "cell_type": "code",
      "source": [
        "new_data = {\n",
        "    'ownerNo': 1,\n",
        "    'modelYear': 2018,\n",
        "    'mileage': 16.55,\n",
        "    'o_Kms': 22000.0,\n",
        "    'transmission': 'Automatic',\n",
        "    'city': 'chennai',\n",
        "    'ft': 'Diesel',\n",
        "    'oem': 'BMW',\n",
        "    'model': 'BMW X3'\n",
        "}\n",
        "\n",
        "X = cars_df.drop(['t_price'], axis=1)\n",
        "y = cars_df['t_price']\n",
        "\n",
        "trained_lr_model = fit_transform(X, y, model_pipeline, 'lr')\n",
        "print(trained_lr_model.predict(pd.DataFrame().from_dict([new_data])))\n"
      ],
      "metadata": {
        "colab": {
          "base_uri": "https://localhost:8080/"
        },
        "id": "QKCLctGhsCbz",
        "outputId": "b58bd39f-ac45-4fbc-8f6e-8980fd469f51"
      },
      "execution_count": 28,
      "outputs": [
        {
          "output_type": "stream",
          "name": "stdout",
          "text": [
            "lr 0.2 17 0.9054032286300694 0.91532017793127\n",
            "[3845609.54404991]\n"
          ]
        }
      ]
    }
  ]
}